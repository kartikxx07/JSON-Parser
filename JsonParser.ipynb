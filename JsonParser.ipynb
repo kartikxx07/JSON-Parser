{
 "cells": [
  {
   "cell_type": "code",
   "execution_count": null,
   "id": "cf3f6c7d-3d99-4d52-8062-ec72fca60449",
   "metadata": {},
   "outputs": [],
   "source": [
    "class JsonParser:\n",
    "    def jsonparcer(file_name):\n",
    "        number_of_lines = 0\n",
    "        lines = []\n",
    "        \n",
    "        def isAString(value):\n",
    "            return value.strip().startswith('\"') and value.strip().endswith('\"')\n",
    "        \n",
    "        def checkRightPart(value):\n",
    "            value = value.strip()\n",
    "            return (\n",
    "                value.startswith('\"') and value.endswith('\"') or  # String\n",
    "                value.isdigit() or  # Number\n",
    "                value in ['true', 'false', 'null']  \n",
    "            )\n",
    "        \n",
    "        try:\n",
    "            with open(file_name, 'r') as file:\n",
    "                for line in file:\n",
    "                    number_of_lines += 1\n",
    "                    line = line.strip() \n",
    "                    if number_of_lines == 1:\n",
    "                        if line[0] != '{':\n",
    "                            raise ValueError(\"Invalid JSON error: Does not start with '{'\")\n",
    "        \n",
    "                    if \":\" in line:\n",
    "                        leftpart, rightpart = line.split(\":\", 1)\n",
    "                        \n",
    "                        if not isAString(leftpart):\n",
    "                            raise ValueError(f\"Invalid JSON error: Key not valid JSON string in line {number_of_lines}\")\n",
    "                        \n",
    "                        if not checkRightPart(rightpart):\n",
    "                            raise ValueError(f\"Invalid JSON error: Value not valid JSON data in line {number_of_lines}\")\n",
    "                    else:\n",
    "                        \n",
    "                        if number_of_lines > 1 and not line.endswith(\"}\"):\n",
    "                            raise ValueError(f\"Invalid JSON error: Malformed line {number_of_lines}\")\n",
    "                        \n",
    "                print(\"Valid JSON structure.\")\n",
    "                \n",
    "        except ValueError as ve:\n",
    "            print(ve)\n",
    "\n",
    "\n",
    "JsonParser.jsonparcer('test.json')\n"
   ]
  }
 ],
 "metadata": {
  "kernelspec": {
   "display_name": "Python 3 (ipykernel)",
   "language": "python",
   "name": "python3"
  },
  "language_info": {
   "codemirror_mode": {
    "name": "ipython",
    "version": 3
   },
   "file_extension": ".py",
   "mimetype": "text/x-python",
   "name": "python",
   "nbconvert_exporter": "python",
   "pygments_lexer": "ipython3",
   "version": "3.12.4"
  }
 },
 "nbformat": 4,
 "nbformat_minor": 5
}
